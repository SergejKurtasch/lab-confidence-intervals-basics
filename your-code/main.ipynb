{
 "cells": [
  {
   "cell_type": "markdown",
   "metadata": {},
   "source": [
    "# Lab | Confidence Intervals Basics\n",
    "\n",
    "## Challenge 1\n",
    "We want to estimate the average size of the men of a country with a confidence level of 80%. Assuming that the standard deviation of the sizes in the population is 4, get the confidence interval with a sample of men selected randomly, whose heights are:\n",
    "\n",
    "167 167 168 168 168 169 171 172 173 175 175 175 177 182 195"
   ]
  },
  {
   "cell_type": "code",
   "execution_count": 34,
   "metadata": {},
   "outputs": [],
   "source": [
    "import numpy as np\n",
    "import scipy.stats as stats\n",
    "import matplotlib.pyplot as plt"
   ]
  },
  {
   "cell_type": "code",
   "execution_count": 35,
   "metadata": {},
   "outputs": [
    {
     "name": "stdout",
     "output_type": "stream",
     "text": [
      "Number of items = 15\n",
      "Mean: 173.47\n",
      "Critical t-value: 1.35\n",
      "Margin of error: 1.39\n",
      "The 0.8 confidence interval for the average high of men in the orchard is: 172.08 to 174.86 cm\n"
     ]
    }
   ],
   "source": [
    "men_highs = [167, 167, 168, 168, 168, 169, 171, 172, 173, 175, 175, 175, 177, 182, 195]\n",
    "sample_mean = sum(men_highs) / len(men_highs)\n",
    "n = len(men_highs)\n",
    "confidence_level = 0.8\n",
    "sample_std_dev = 4\n",
    "\n",
    "print(f\"Number of items = {n}\")\n",
    "print(f\"Mean: {x_mean:.2f}\")\n",
    "\n",
    "standard_error = sample_std_dev / np.sqrt(n)\n",
    "\n",
    "t_critical = stats.t.ppf((1 + confidence_level) / 2, df=n-1) \n",
    "print(f\"Critical t-value: {t_critical:.2f}\")\n",
    "\n",
    "margin_of_error = t_critical * standard_error\n",
    "print(f\"Margin of error: {margin_of_error:.2f}\")\n",
    "confidence_interval = (sample_mean - margin_of_error, sample_mean + margin_of_error)\n",
    "print(f\"The {confidence_level} confidence interval for the average high of men in the orchard is: {confidence_interval[0]:.2f} to {confidence_interval[1]:.2f} cm\")\n",
    "\n"
   ]
  },
  {
   "cell_type": "markdown",
   "metadata": {},
   "source": [
    "## Challenge 2 \n",
    "In a sample of 105 shops selected randomly from an area, we note that 27 of them have had losses in this month. Get an confidence interval for the proportion of businesses in the area with losses, to a confidence level \n",
    "* of 80% and confidence level.\n",
    "* of 90%.\n"
   ]
  },
  {
   "cell_type": "code",
   "execution_count": 36,
   "metadata": {},
   "outputs": [
    {
     "name": "stdout",
     "output_type": "stream",
     "text": [
      "Sample proportion: 0.26\n",
      "Critical z-value: 1.28\n",
      "Margin of error: 0.05\n",
      "The 0.8 confidence interval for the proportion of shops that have losses is: 0.20 to 0.31\n",
      "Number of shops with losses is from 21 to 32 shops\n"
     ]
    }
   ],
   "source": [
    "n = 105\n",
    "x = 27\n",
    "confidence_level = 0.8\n",
    "\n",
    "p_hat = x / n\n",
    "print(f\"Sample proportion: {p_hat:.2f}\")\n",
    "standard_error = np.sqrt(p_hat * (1 - p_hat) / n)\n",
    "z_critical = stats.norm.ppf((1 + confidence_level) / 2)\n",
    "print(f\"Critical z-value: {z_critical:.2f}\")\n",
    "margin_of_error = z_critical * standard_error\n",
    "print(f\"Margin of error: {margin_of_error:.2f}\")\n",
    "confidence_interval = (p_hat - margin_of_error, p_hat + margin_of_error)\n",
    "print(f\"The {confidence_level} confidence interval for the proportion of shops that have losses is: {confidence_interval[0]:.2f} to {confidence_interval[1]:.2f}\")\n",
    "print(f\"Number of shops with losses is from {int(n * confidence_interval[0])} to {int(n * confidence_interval[1])} shops\")\n"
   ]
  },
  {
   "cell_type": "markdown",
   "metadata": {},
   "source": [
    "## Challenge 3 - To practice more\n",
    "For the same example above, calculate a confidence interval for the variance at 90% level."
   ]
  },
  {
   "cell_type": "code",
   "execution_count": 37,
   "metadata": {},
   "outputs": [
    {
     "name": "stdout",
     "output_type": "stream",
     "text": [
      "Sample proportion: 0.26\n",
      "Critical z-value: 1.64\n",
      "Margin of error: 0.07\n",
      "The 0.9 confidence interval for the proportion of shops that have losses is: 0.19 to 0.33\n",
      "Number of shops with losses is from 19 to 34 shops\n"
     ]
    }
   ],
   "source": [
    "confidence_level = 0.9\n",
    "n = 105\n",
    "x = 27\n",
    "\n",
    "p_hat = x / n\n",
    "print(f\"Sample proportion: {p_hat:.2f}\")\n",
    "standard_error = np.sqrt(p_hat * (1 - p_hat) / n)\n",
    "z_critical = stats.norm.ppf((1 + confidence_level) / 2)\n",
    "print(f\"Critical z-value: {z_critical:.2f}\")\n",
    "margin_of_error = z_critical * standard_error\n",
    "print(f\"Margin of error: {margin_of_error:.2f}\")\n",
    "confidence_interval = (p_hat - margin_of_error, p_hat + margin_of_error)\n",
    "print(f\"The {confidence_level} confidence interval for the proportion of shops that have losses is: {confidence_interval[0]:.2f} to {confidence_interval[1]:.2f}\")\n",
    "print(f\"Number of shops with losses is from {int(n * confidence_interval[0])} to {int(n * confidence_interval[1])} shops\")\n"
   ]
  },
  {
   "cell_type": "markdown",
   "metadata": {},
   "source": [
    "## Challenge 4 - To practice more\n",
    "The sulfuric acid content of 7 similar containers is 9.8, 10.2, 10.4, 9.8, 10.0, 10.2 and 9.6 liters. Calculate a 95% confidence interval for the average content of all containers assuming an approximately normal distribution.\n",
    "\n",
    "\n"
   ]
  },
  {
   "cell_type": "code",
   "execution_count": 38,
   "metadata": {},
   "outputs": [
    {
     "name": "stdout",
     "output_type": "stream",
     "text": [
      "Sample mean: 10.00\n",
      "Sample standard deviation: 0.28\n",
      "Critical t-value: 2.45\n",
      "Margin of error: 0.26\n",
      "The 0.95 confidence interval for the average volume of containers is: 9.74 to 10.26\n"
     ]
    }
   ],
   "source": [
    "containers = [9.8, 10.2, 10.4, 9.8, 10.0, 10.2, 9.6]\n",
    "x = len(containers)\n",
    "sample_mean = sum(containers) / x\n",
    "sample_std_dev = np.std(containers, ddof=1)\n",
    "confidence_level = 0.95\n",
    "print(f\"Sample mean: {sample_mean:.2f}\")\n",
    "print(f\"Sample standard deviation: {sample_std_dev:.2f}\")\n",
    "standard_error = sample_std_dev / np.sqrt(x)\n",
    "t_critical = stats.t.ppf((1 + confidence_level) / 2, df=x-1)\n",
    "print(f\"Critical t-value: {t_critical:.2f}\")\n",
    "margin_of_error = t_critical * standard_error\n",
    "print(f\"Margin of error: {margin_of_error:.2f}\")\n",
    "confidence_interval = (sample_mean - margin_of_error, sample_mean + margin_of_error)\n",
    "print(f\"The {confidence_level} confidence interval for the average volume of containers is: {confidence_interval[0]:.2f} to {confidence_interval[1]:.2f}\")"
   ]
  },
  {
   "cell_type": "markdown",
   "metadata": {},
   "source": [
    "## Bonus challenge\n",
    "The error level or sampling error for the first challenge is given by the following expression:\n",
    "$$Error = z_{\\frac{\\alpha}{2}}\\frac{\\sigma}{\\sqrt n}$$\n",
    "Where z represents the value for N(0,1)\n",
    "\n",
    "\n",
    "Suppose that with the previous data in the challenge 1, and with a confidence level of\n",
    "99% (that is, almost certainly) we want to estimate the average population size, so that the error level committed is not greater than half a centimeter.\n",
    "\n",
    "i) Determine what size the selected sample of men should be."
   ]
  },
  {
   "cell_type": "code",
   "execution_count": 39,
   "metadata": {},
   "outputs": [
    {
     "name": "stdout",
     "output_type": "stream",
     "text": [
      "Critical z-value: 2.58\n",
      "Sample size: 424\n"
     ]
    }
   ],
   "source": [
    "from scipy.stats import norm\n",
    "\n",
    "confidence_level = 0.99\n",
    "sigma = 4\n",
    "error_margin = 0.5\n",
    "alfa = 1-confidence_level\n",
    "z_critical = norm.ppf(1 - alfa / 2)\n",
    "print(f\"Critical z-value: {z_critical:.2f}\")\n",
    "n = (z_critical * sigma / error_margin) ** 2\n",
    "print(f\"Sample size: {int(n)}\")"
   ]
  },
  {
   "cell_type": "markdown",
   "metadata": {},
   "source": [
    "ii) For the second challenge, we have the following error:\n",
    "$$ Error = z_{\\frac{\\alpha}{2}}\\sqrt{\\frac{p\\times q}{n}} $$\n",
    "Determine the sample required to not exceed a certain error"
   ]
  },
  {
   "cell_type": "markdown",
   "metadata": {},
   "source": [
    "For the last case, determine the sample size needed so that the error will not\n",
    "exceed 1%, with a confidence of 80%."
   ]
  },
  {
   "cell_type": "code",
   "execution_count": 42,
   "metadata": {},
   "outputs": [
    {
     "name": "stdout",
     "output_type": "stream",
     "text": [
      "Critical z-value: 1.28\n",
      "Sample size: 3137\n"
     ]
    }
   ],
   "source": [
    "error_margin = 0.01\n",
    "confidence_level = 0.8\n",
    "z_critical = stats.norm.ppf((1 + confidence_level) / 2)\n",
    "print(f\"Critical z-value: {z_critical:.2f}\")\n",
    "n = (z_critical ** 2 )* p_hat * (1 - p_hat) / error_margin ** 2\n",
    "print(f\"Sample size: {int(n)}\")\n"
   ]
  },
  {
   "cell_type": "markdown",
   "metadata": {},
   "source": [
    "## Bonus challenge"
   ]
  },
  {
   "cell_type": "markdown",
   "metadata": {},
   "source": [
    "Let's consider the following problem:\n",
    "\n",
    "Build a confidence interval of 94% for the real difference between the durations of two brands of spotlights, if a sample of 40 spotlights taken randomly from the first mark gave an average duration of 418 hours, and a sample of 50 bulbs of another brand gave a duration average of 402 hours. The standard deviations of the two\n",
    "populations are 26 hours and 22 hours, respectively.\n",
    "\n",
    "Sometimes, we will be interested in the difference of two different groups of random variables. We can also build a confidence interval for that! We have some different cases regarding the variance but for this specific case (the variance are different and known), we have that:\n",
    "\n",
    "$$\\overline{X} - \\overline{Y}  \\sim N(\\mu_{X} - \\mu_{Y} , \\sqrt{\\frac{\\sigma_{X}^2}{n_X}+\\frac{\\sigma_{Y}^2}{n_Y}})$$\n",
    "\n",
    "Solve the problem with this information."
   ]
  },
  {
   "cell_type": "code",
   "execution_count": 46,
   "metadata": {},
   "outputs": [
    {
     "name": "stdout",
     "output_type": "stream",
     "text": [
      "Critical z-value: 1.88\n",
      "Standard error: 5.16\n",
      "Margin of error: 9.70\n",
      "The 0.94 confidence interval for the difference in average duration is: 6.30 to 25.70\n"
     ]
    }
   ],
   "source": [
    "confidence_level = 0.94\n",
    "\n",
    "n1 = 40\n",
    "duration1 = 418\n",
    "st_dev_1 = 26\n",
    "\n",
    "n2 = 50\n",
    "duration2 = 402\n",
    "st_dev_2 = 22\n",
    "\n",
    "z_critical = stats.norm.ppf((1 + confidence_level) / 2)\n",
    "print(f\"Critical z-value: {z_critical:.2f}\")\n",
    "\n",
    "dif = duration1 - duration2\n",
    "standard_error = np.sqrt((st_dev_1 ** 2 / n1) + (st_dev_2 ** 2 / n2))\n",
    "print(f\"Standard error: {standard_error:.2f}\")\n",
    "\n",
    "error_margin = z_critical * standard_error\n",
    "print(f\"Margin of error: {error_margin:.2f}\")\n",
    "\n",
    "confidence_interval = (dif - error_margin, dif + error_margin)\n",
    "print(f\"The {confidence_level} confidence interval for the difference in average duration is: {confidence_interval[0]:.2f} to {confidence_interval[1]:.2f}\")\n"
   ]
  }
 ],
 "metadata": {
  "kernelspec": {
   "display_name": "Python 3",
   "language": "python",
   "name": "python3"
  },
  "language_info": {
   "codemirror_mode": {
    "name": "ipython",
    "version": 3
   },
   "file_extension": ".py",
   "mimetype": "text/x-python",
   "name": "python",
   "nbconvert_exporter": "python",
   "pygments_lexer": "ipython3",
   "version": "3.9.6"
  }
 },
 "nbformat": 4,
 "nbformat_minor": 2
}
